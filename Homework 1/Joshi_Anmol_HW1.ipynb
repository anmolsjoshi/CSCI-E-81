{
 "cells": [
  {
   "cell_type": "markdown",
   "metadata": {},
   "source": [
    "# Homework 1.  Individual Homework\n",
    "\n",
    "Due date:  September 12, 11:59pm EST\n",
    "Check your homework into the HW1 drop box.\n"
   ]
  },
  {
   "cell_type": "markdown",
   "metadata": {},
   "source": [
    "Problem A.  [30 pts]  We are going to use 1 million digits of pi available at http://www.exploratorium.edu/pi/pi_archive/Pi10-6.html\n"
   ]
  },
  {
   "cell_type": "markdown",
   "metadata": {},
   "source": [
    "Problem A1.\n",
    "Compute and print out the marginal probabilities P(Xi) for each of the digits across all million numbers.  What kind of What kind of distribution does this suggest?\n"
   ]
  },
  {
   "cell_type": "code",
   "execution_count": 11,
   "metadata": {
    "collapsed": false,
    "scrolled": false
   },
   "outputs": [
    {
     "name": "stdout",
     "output_type": "stream",
     "text": [
      " The probability of 0 is 0.1000\n",
      " The probability of 1 is 0.0998\n",
      " The probability of 2 is 0.1000\n",
      " The probability of 3 is 0.1002\n",
      " The probability of 4 is 0.1002\n",
      " The probability of 5 is 0.1004\n",
      " The probability of 6 is 0.0995\n",
      " The probability of 7 is 0.0998\n",
      " The probability of 8 is 0.1000\n",
      " The probability of 9 is 0.1001\n"
     ]
    },
    {
     "data": {
      "text/plain": [
       "(array([  99959.,   99758.,  100026.,  100229.,  100230.,  100359.,\n",
       "          99548.,   99800.,   99985.,  100106.]),\n",
       " array([ 0. ,  0.9,  1.8,  2.7,  3.6,  4.5,  5.4,  6.3,  7.2,  8.1,  9. ]),\n",
       " <a list of 10 Patch objects>)"
      ]
     },
     "execution_count": 11,
     "metadata": {},
     "output_type": "execute_result"
    },
    {
     "data": {
      "image/png": "[encoded data removed]",
      "text/plain": [
       "<matplotlib.figure.Figure at 0xb478d68>"
      ]
     },
     "metadata": {},
     "output_type": "display_data"
    }
   ],
   "source": [
    "import urllib2\n",
    "import numpy as np\n",
    "from bs4 import BeautifulSoup\n",
    "import matplotlib\n",
    "import matplotlib.pyplot as plt\n",
    "from __future__ import division\n",
    "%matplotlib inline\n",
    "\n",
    "page = urllib2.urlopen(\"http://www.exploratorium.edu/pi/pi_archive/Pi10-6.html\").read()\n",
    "soup = BeautifulSoup(page, \"lxml\")\n",
    "pi_string = soup.find_all('pre')[-1]\n",
    "pi_string = str(pi_string.string)\n",
    "pi_string = pi_string.split(\".\")[1]\n",
    "pi_string = pi_string.replace('\\n', '')\n",
    "pi_string = pi_string.replace(' ', '')\n",
    "probability = range(0,10)\n",
    "counter_x = range(0, 10)\n",
    "pi_string_len = float(len(pi_string))\n",
    "for ii in range(0, 10):\n",
    "    probability[ii] = (float(pi_string.count(str(ii))))/pi_string_len\n",
    "    counter_x[ii] = pi_string.count(str(ii))\n",
    "    print \" The probability of %d is %.4f\" % (ii, probability[ii])\n",
    "\n",
    "X_ = np.array([int(i) for i in pi_string])\n",
    "\n",
    "plt.figure()\n",
    "plt.hist(X_)"
   ]
  },
  {
   "cell_type": "markdown",
   "metadata": {},
   "source": [
    "    Answer: The distribution above is similar to a uniform distribution with all the probability values pretty close to each other. Histogram is plotted for confirmation. "
   ]
  },
  {
   "cell_type": "markdown",
   "metadata": {},
   "source": [
    "Problem A2:\n",
    "Compute the joint probability of P(xi = 1, xi-1 = 3).   Based on this value, what can you say about the independence relationship.    "
   ]
  },
  {
   "cell_type": "code",
   "execution_count": 12,
   "metadata": {
    "collapsed": false
   },
   "outputs": [
    {
     "name": "stdout",
     "output_type": "stream",
     "text": [
      "P(Xi = 1, Xi - 1 = 3) is 0.009938\n",
      "P(Xi = 1) * P(Xi -1 = 3) is 0.009999\n"
     ]
    }
   ],
   "source": [
    "from __future__ import division\n",
    "import numpy as np\n",
    "\n",
    "counter = 0\n",
    "for ii in range(1, len(pi_string)):\n",
    "    if pi_string[ii] == '1' and pi_string[ii-1] == '3':\n",
    "        counter = counter + 1\n",
    "p = (counter/len(pi_string))\n",
    "jo = probability[1] * probability[3];\n",
    "print \"P(Xi = 1, Xi - 1 = 3) is %f\" % p\n",
    "print \"P(Xi = 1) * P(Xi -1 = 3) is %f\" %jo"
   ]
  },
  {
   "cell_type": "markdown",
   "metadata": {},
   "source": [
    "    Answer: Based on the probability values calculated, the events are not completely independent as P(Xi = 1 | Xi - 1 = 3) is not equal to P(Xi = 1) * P(Xi -1 = 3). But the values are almost equal. "
   ]
  },
  {
   "cell_type": "markdown",
   "metadata": {},
   "source": [
    "Problem A3:\n",
    "Compute the conditional probability P(xi = 3 | xi-1 = 1).   Assert how this relates to problem \n",
    "directly.  Compute the same conditional probability using the definition of conditional probability.  \n"
   ]
  },
  {
   "cell_type": "code",
   "execution_count": 13,
   "metadata": {
    "collapsed": false
   },
   "outputs": [
    {
     "name": "stdout",
     "output_type": "stream",
     "text": [
      "P(Xi = 3 | Xi -1 = 1) is 0.1004\n"
     ]
    }
   ],
   "source": [
    "from __future__ import division\n",
    "import numpy as np\n",
    "\n",
    "counter_c = 0\n",
    "count_1 = float(pi_string.count('1'))\n",
    "for ii in range(1, len(pi_string)):\n",
    "    if pi_string[ii] == '3' and pi_string[ii-1] == '1':\n",
    "        counter_c = counter_c + 1\n",
    "print \"P(Xi = 3 | Xi -1 = 1) is %.4f\" % (counter_c/count_1)"
   ]
  },
  {
   "cell_type": "markdown",
   "metadata": {},
   "source": [
    "Problem A4:\n",
    "Let A be the pi values at indices 1-1000\n",
    "Let B be the pi values at indices 2-1001\n",
    "Let C be the pi values at indices 3- 1002\n",
    "Compute the sample covariance matrix for A, B, C against each other. without using the built-in command (i.e. code it yourself). \n",
    "The result should be a 3x3 matrix.\n"
   ]
  },
  {
   "cell_type": "code",
   "execution_count": 14,
   "metadata": {
    "collapsed": false
   },
   "outputs": [
    {
     "name": "stdout",
     "output_type": "stream",
     "text": [
      "[[  8.41342400e+00  -3.03528000e-01  -6.43200000e-03]\n",
      " [ -3.03528000e-01   8.40351600e+00  -3.10396000e-01]\n",
      " [ -6.43200000e-03  -3.10396000e-01   8.41567600e+00]]\n"
     ]
    }
   ],
   "source": [
    "import numpy as np\n",
    "from __future__ import division\n",
    "\n",
    "#Only using the decimal places, not using 3. \n",
    "A = pi_string[0:1000]\n",
    "A_ = range(0,1000)\n",
    "B_ = A_\n",
    "C_ = B_\n",
    "B = pi_string[1:1001]\n",
    "C = pi_string[2:1002]\n",
    "\n",
    "A_ = np.array([int(i) for i in A])\n",
    "B_ = np.array([int(i) for i in B])\n",
    "C_ = np.array([int(i) for i in C])\n",
    "\n",
    "D_ = np.array([A_, B_, C_])\n",
    "\n",
    "n_1 = len(A_)\n",
    "n_1 = 1/(n_1)\n",
    "\n",
    "E_X = np.array([np.average(A_), np.average(B_), np.average(C_)])\n",
    "\n",
    "E_X = np.transpose(E_X)\n",
    "\n",
    "A_ = A_ - E_X[0]\n",
    "B_ = B_ - E_X[1]\n",
    "C_ = C_ - E_X[2]\n",
    "\n",
    "matrix_E_X = np.matrix([A_, B_, C_])\n",
    "matrix_E_X_1 = np.transpose(matrix_E_X)\n",
    "covv = (n_1)*(matrix_E_X * matrix_E_X_1)\n",
    "\n",
    "print covv"
   ]
  },
  {
   "cell_type": "markdown",
   "metadata": {},
   "source": [
    "Compute the correlation matrix for A, B, C against each other without using the built-in command (i.e. code it yourself).  The result should be a 3 x 3 matrix."
   ]
  },
  {
   "cell_type": "code",
   "execution_count": 15,
   "metadata": {
    "collapsed": false
   },
   "outputs": [
    {
     "name": "stdout",
     "output_type": "stream",
     "text": [
      "[[  1.00000000e+00  -3.60978933e-02  -7.64840746e-04]\n",
      " [ -3.60978933e-02   1.00000000e+00  -3.68880098e-02]\n",
      " [ -7.64840746e-04  -3.68880098e-02   1.00000000e+00]]\n"
     ]
    }
   ],
   "source": [
    "from __future__ import division\n",
    "import numpy as np\n",
    "\n",
    "sA = np.std(A_)\n",
    "sB = np.std(B_)\n",
    "sC = np.std(C_)\n",
    "\n",
    "ssAB = sA*sB\n",
    "ssBC = sB*sC\n",
    "ssAC = sA*sC\n",
    "\n",
    "s2A = sA*sA\n",
    "s2B = sB*sB\n",
    "s2C = sC*sC\n",
    "\n",
    "correlation = np.zeros((3,3))\n",
    "\n",
    "correlation[0,0] = (covv[0,0])/s2A\n",
    "correlation[1,1] = (covv[1,1])/s2B\n",
    "correlation[2,2] = (covv[2,2])/s2C\n",
    "correlation[1,0] = (covv[1,0])/ssAB\n",
    "correlation[0,1] = (covv[0,1])/ssAB\n",
    "correlation[2,0] = (covv[2,0])/ssBC\n",
    "correlation[0,2] = (covv[0,2])/ssBC\n",
    "correlation[1,2] = (covv[1,2])/ssAC\n",
    "correlation[2,1] = (covv[2,1])/ssAC\n",
    "\n",
    "print correlation"
   ]
  },
  {
   "cell_type": "markdown",
   "metadata": {},
   "source": [
    "Problem B.  [35 pts]  Run a simulation of the Monte Hall problem with 4 doors and 1 prize.   (https://en.wikipedia.org/wiki/Monty_Hall_problem).   \n",
    "For simplicity, you can assume that the game player always initially chooses door A and the host will open one door.  The prize may be behind any of the 4 doors.  \n"
   ]
  },
  {
   "cell_type": "code",
   "execution_count": 16,
   "metadata": {
    "collapsed": false,
    "scrolled": true
   },
   "outputs": [
    {
     "name": "stdout",
     "output_type": "stream",
     "text": [
      "Probability of Winning by switching = 0.373\n",
      "Probability of Losing by switching = 0.627\n",
      "Probability of Winning by not switching = 0.250\n",
      "Probability of Losing by not switching = 0.750\n"
     ]
    }
   ],
   "source": [
    "import random\n",
    "import numpy as np\n",
    "from __future__ import division\n",
    "\n",
    "win_switch = 0\n",
    "loss_switch = 0\n",
    "\n",
    "win_no_switch = 0\n",
    "loss_no_switch = 0\n",
    "\n",
    "switch = ['True', 'False']\n",
    "\n",
    "no_trials = 100000\n",
    "\n",
    "for j in range(0,2):\n",
    "    if switch[j] == 'True':\n",
    "        for ii in xrange(no_trials):\n",
    "            player_door = 0\n",
    "            prize_door = random.randint(0, 3)\n",
    "            doors = range(0, 4)\n",
    "            doors_he_will_open = range(0, 4)\n",
    "            if prize_door == player_door:\n",
    "                doors_he_will_open.remove(player_door)\n",
    "                another_door = random.choice(doors_he_will_open)\n",
    "                doors_he_will_open.remove(another_door)\n",
    "            else:\n",
    "                doors_he_will_open.remove(player_door)\n",
    "                doors_he_will_open.remove(prize_door)\n",
    "\n",
    "            door_he_does_open = random.choice(doors_he_will_open)\n",
    "\n",
    "            doors.remove(door_he_does_open)\n",
    "            doors.remove(player_door)\n",
    "            doors_he_will_open.remove(door_he_does_open)\n",
    "\n",
    "            player_door = random.choice(doors)\n",
    "            if player_door == prize_door:\n",
    "                win_switch = win_switch + 1\n",
    "            else:\n",
    "                loss_switch = loss_switch + 1   \n",
    "\n",
    "    else:\n",
    "        for ii in xrange(no_trials):\n",
    "            player_door = 0\n",
    "            prize_door = random.randint(0, 3)\n",
    "            doors = range(0, 4)\n",
    "            doors_he_will_open = range(0, 4)\n",
    "            switch = ['True', 'False']\n",
    "            if prize_door == player_door:\n",
    "                doors_he_will_open.remove(player_door)\n",
    "                another_door = random.choice(doors_he_will_open)\n",
    "                doors_he_will_open.remove(another_door)\n",
    "            else:\n",
    "                doors_he_will_open.remove(player_door)\n",
    "                doors_he_will_open.remove(prize_door)\n",
    "\n",
    "            door_he_does_open = random.choice(doors_he_will_open)\n",
    "\n",
    "            doors.remove(door_he_does_open)\n",
    "            doors.remove(player_door)\n",
    "            doors_he_will_open.remove(door_he_does_open)\n",
    "            if player_door == prize_door:\n",
    "                win_no_switch = win_no_switch + 1\n",
    "            else:\n",
    "                loss_no_switch = loss_no_switch + 1   \n",
    "\n",
    "print \"Probability of Winning by switching = %.3f\" % (win_switch/no_trials)\n",
    "print \"Probability of Losing by switching = %.3f\" % (loss_switch/no_trials)\n",
    "print \"Probability of Winning by not switching = %.3f\" % (win_no_switch/no_trials)\n",
    "print \"Probability of Losing by not switching = %.3f\" % (loss_no_switch/no_trials)"
   ]
  },
  {
   "cell_type": "markdown",
   "metadata": {},
   "source": [
    "Based on the simulation, what is the probability of winning if you switch doors?\n"
   ]
  },
  {
   "cell_type": "markdown",
   "metadata": {
    "collapsed": true
   },
   "source": [
    "    Answer: Based on the simulation above, the probability of winning by switching doors is 37.5%"
   ]
  },
  {
   "cell_type": "markdown",
   "metadata": {},
   "source": [
    "Based on the simulation, what is the probability of winning if you keep door A?"
   ]
  },
  {
   "cell_type": "markdown",
   "metadata": {
    "collapsed": true
   },
   "source": [
    "    Answer: Based on the simulation above, the probability of winning by keeping the original door is 25%. "
   ]
  },
  {
   "cell_type": "markdown",
   "metadata": {},
   "source": [
    "Problem C. [20 points]\n",
    "The distribution for BMI is shown in Figure 1.  https://www.researchgate.net/figure/6075307_fig1_Fig-1-Distribution-of-body-mass-index-BMI-This-histogram-shows-the-frequency-of-BMI.   \n",
    "<img src=\"histogram.png\">"
   ]
  },
  {
   "cell_type": "markdown",
   "metadata": {},
   "source": [
    "Problem C1  \n",
    "From the plot, is the BMI distribution skewed negative, positive, or neither?\n"
   ]
  },
  {
   "cell_type": "markdown",
   "metadata": {
    "collapsed": true
   },
   "source": [
    "    Answer: From visual inspection, the BMI distribution above is positively skewed because most of the data is on the left side with a few large values on the right side. "
   ]
  },
  {
   "cell_type": "markdown",
   "metadata": {},
   "source": [
    "Problem C2\n",
    "A healthy weight is defined as having a BMI between 18.6 kg/m2 and 24.5 kg/m2.  What is the probability of having a healthy weight?"
   ]
  },
  {
   "cell_type": "code",
   "execution_count": 17,
   "metadata": {
    "collapsed": false
   },
   "outputs": [
    {
     "name": "stdout",
     "output_type": "stream",
     "text": [
      "Probability of having a healthy BMI is 0.400\n"
     ]
    }
   ],
   "source": [
    "import random\n",
    "import numpy as np\n",
    "from __future__ import division\n",
    "\n",
    "bin_size = 2\n",
    "freq = [2, 3, 9, 32, 38, 48, 47, 28, 22, 25, 12, 3, 3, 1, 2, 2, 3, 0, 1]\n",
    "bin_val = [14, 16, 18, 20, 22, 24, 26, 28, 30, 32, 34, 36, 38, 40, 42, 44, 46, 48, 50, 52]\n",
    "total_area = bin_size*sum(freq)\n",
    "prob_area = freq[2]*(20 - 18.6) + freq[3]*bin_size + freq[4]*bin_size + freq[5]*(26 - 24.5)\n",
    "probability = prob_area/total_area\n",
    "\n",
    "print \"Probability of having a healthy BMI is %.3f\" % probability"
   ]
  },
  {
   "cell_type": "markdown",
   "metadata": {},
   "source": [
    "Problem C3.\n",
    "The caption of the plot states that the mean BMI is 27 kg/m2 +/- 6 kg/m2.  Let’s assume that the data has a normal distribution with mean of 27 kg/m2 and a standard deviation of 6 kg/m2.  Compute the probability of someone being less than a healthy weight.  \n"
   ]
  },
  {
   "cell_type": "code",
   "execution_count": 18,
   "metadata": {
    "collapsed": false
   },
   "outputs": [
    {
     "name": "stdout",
     "output_type": "stream",
     "text": [
      "Probability of someone being less than a healthy BMI is 0.081\n"
     ]
    }
   ],
   "source": [
    "import random\n",
    "import numpy as np\n",
    "import scipy.stats as st\n",
    "from __future__ import division\n",
    "\n",
    "mu = 27\n",
    "sigma = 6\n",
    "bmi = np.random.normal(mu, sigma, 1000)\n",
    "\n",
    "po = st.norm.cdf((18.6-27)/6)\n",
    "\n",
    "print \"Probability of someone being less than a healthy BMI is %.3f\" % po"
   ]
  },
  {
   "cell_type": "markdown",
   "metadata": {},
   "source": [
    "Problem D. [15 pts]  Linear algebra. "
   ]
  },
  {
   "cell_type": "markdown",
   "metadata": {},
   "source": [
    "Problem D1:  Compute [1 2 3]’ * [4 5 6].  The ' indicates a transpose."
   ]
  },
  {
   "cell_type": "code",
   "execution_count": 19,
   "metadata": {
    "collapsed": false
   },
   "outputs": [
    {
     "name": "stdout",
     "output_type": "stream",
     "text": [
      "[[ 4  5  6]\n",
      " [ 8 10 12]\n",
      " [12 15 18]]\n"
     ]
    }
   ],
   "source": [
    "import random\n",
    "import numpy as np\n",
    "\n",
    "print np.transpose(np.matrix( ( (1), (2), (3) ) )) * np.matrix( ( (4), (5), (6) ) )"
   ]
  },
  {
   "cell_type": "markdown",
   "metadata": {},
   "source": [
    "Problem D2:  Compute [1 2; 3 4; 6 0]  *  [2 5 3 ; 2 5 1]  * [1 2 1]’ where semicolons notation separates rows within a matrix."
   ]
  },
  {
   "cell_type": "code",
   "execution_count": 20,
   "metadata": {
    "collapsed": false
   },
   "outputs": [
    {
     "name": "stdout",
     "output_type": "stream",
     "text": [
      "[[41]\n",
      " [97]\n",
      " [90]]\n"
     ]
    }
   ],
   "source": [
    "import random\n",
    "import numpy as np\n",
    "\n",
    "print np.matrix( ((1, 2), (3, 4), (6, 0)) ) * np.matrix( ((2, 5, 3), (2, 5, 1)) ) * np.transpose(np.matrix( (1, 2, 1) ))"
   ]
  }
 ],
 "metadata": {
  "anaconda-cloud": {},
  "kernelspec": {
   "display_name": "Python [Root]",
   "language": "python",
   "name": "Python [Root]"
  },
  "language_info": {
   "codemirror_mode": {
    "name": "ipython",
    "version": 2
   },
   "file_extension": ".py",
   "mimetype": "text/x-python",
   "name": "python",
   "nbconvert_exporter": "python",
   "pygments_lexer": "ipython2",
   "version": "2.7.12"
  }
 },
 "nbformat": 4,
 "nbformat_minor": 0
}
