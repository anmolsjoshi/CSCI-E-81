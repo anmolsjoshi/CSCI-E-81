{
 "cells": [
  {
   "cell_type": "markdown",
   "metadata": {},
   "source": [
    "# Homework 1.  Individual Homework\n",
    "\n",
    "Due date:  September 12, 11:59pm EST\n",
    "Check your homework into the HW1 drop box.\n"
   ]
  },
  {
   "cell_type": "markdown",
   "metadata": {},
   "source": [
    "Problem A.  [30 pts]  We are going to use 1 million digits of pi available at http://www.exploratorium.edu/pi/pi_archive/Pi10-6.html\n"
   ]
  },
  {
   "cell_type": "markdown",
   "metadata": {},
   "source": [
    "Problem A1.\n",
    "Compute and print out the marginal probabilities P(Xi) for each of the digits across all million numbers.  What kind of What kind of distribution does this suggest?\n"
   ]
  },
  {
   "cell_type": "code",
   "execution_count": null,
   "metadata": {
    "collapsed": true
   },
   "outputs": [],
   "source": []
  },
  {
   "cell_type": "markdown",
   "metadata": {},
   "source": [
    "Problem A2:\n",
    "Compute the joint probability of P(xi = 1, xi-1 = 3).   Based on this value, what can you say about the independence relationship.    "
   ]
  },
  {
   "cell_type": "code",
   "execution_count": null,
   "metadata": {
    "collapsed": true
   },
   "outputs": [],
   "source": []
  },
  {
   "cell_type": "markdown",
   "metadata": {},
   "source": [
    "Problem A3:\n",
    "Compute the conditional probability P(xi = 3 | xi-1 = 1).   Assert how this relates to problem \n",
    "directly.  Compute the same conditional probability using the definition of conditional probability.  \n"
   ]
  },
  {
   "cell_type": "code",
   "execution_count": null,
   "metadata": {
    "collapsed": true
   },
   "outputs": [],
   "source": []
  },
  {
   "cell_type": "markdown",
   "metadata": {},
   "source": [
    "Problem A4:\n",
    "Let A be the pi values at indices 1-1000\n",
    "Let B be the pi values at indices 2-1001\n",
    "Let C be the pi values at indices 3- 1002\n",
    "Compute the sample covariance matrix for A, B, C against each other. without using the built-in command (i.e. code it yourself). \n",
    "The result should be a 3x3 matrix.\n"
   ]
  },
  {
   "cell_type": "code",
   "execution_count": null,
   "metadata": {
    "collapsed": true
   },
   "outputs": [],
   "source": []
  },
  {
   "cell_type": "markdown",
   "metadata": {},
   "source": [
    "Compute the correlation matrix for A, B, C against each other without using the built-in command (i.e. code it yourself).  The result should be a 3 x 3 matrix."
   ]
  },
  {
   "cell_type": "code",
   "execution_count": null,
   "metadata": {
    "collapsed": true
   },
   "outputs": [],
   "source": []
  },
  {
   "cell_type": "markdown",
   "metadata": {},
   "source": [
    "Problem B.  [35 pts]  Run a simulation of the Monte Hall problem with 4 doors and 1 prize.   (https://en.wikipedia.org/wiki/Monty_Hall_problem).   \n",
    "For simplicity, you can assume that the game player always initially chooses door A and the host will open one door.  The prize may be behind any of the 4 doors.  \n"
   ]
  },
  {
   "cell_type": "code",
   "execution_count": null,
   "metadata": {
    "collapsed": true
   },
   "outputs": [],
   "source": []
  },
  {
   "cell_type": "markdown",
   "metadata": {},
   "source": [
    "Based on the simulation, what is the probability of winning if you switch doors?\n"
   ]
  },
  {
   "cell_type": "code",
   "execution_count": null,
   "metadata": {
    "collapsed": true
   },
   "outputs": [],
   "source": []
  },
  {
   "cell_type": "markdown",
   "metadata": {},
   "source": [
    "Based on the simulation, what is the probability of winning if you keep door A?"
   ]
  },
  {
   "cell_type": "code",
   "execution_count": null,
   "metadata": {
    "collapsed": true
   },
   "outputs": [],
   "source": []
  },
  {
   "cell_type": "markdown",
   "metadata": {},
   "source": [
    "Problem C. [20 points]\n",
    "The distribution for BMI is shown in Figure 1.  https://www.researchgate.net/figure/6075307_fig1_Fig-1-Distribution-of-body-mass-index-BMI-This-histogram-shows-the-frequency-of-BMI.   \n",
    "<img src=\"histogram.png\">"
   ]
  },
  {
   "cell_type": "markdown",
   "metadata": {},
   "source": [
    "Problem C1  \n",
    "From the plot, is the BMI distribution skewed negative, positive, or neither?\n"
   ]
  },
  {
   "cell_type": "code",
   "execution_count": null,
   "metadata": {
    "collapsed": true
   },
   "outputs": [],
   "source": []
  },
  {
   "cell_type": "markdown",
   "metadata": {},
   "source": [
    "Problem C2\n",
    "A healthy weight is defined as having a BMI between 18.6 kg/m2 and 24.5 kg/m2.  What is the probability of having a healthy weight?"
   ]
  },
  {
   "cell_type": "code",
   "execution_count": null,
   "metadata": {
    "collapsed": true
   },
   "outputs": [],
   "source": []
  },
  {
   "cell_type": "markdown",
   "metadata": {},
   "source": [
    "Problem C3.\n",
    "The caption of the plot states that the mean BMI is 27 kg/m2 +/- 6 kg/m2.  Let’s assume that the data has a normal distribution with mean of 27 kg/m2 and a standard deviation of 6 kg/m2.  Compute the probability of someone being less than a healthy weight.  \n"
   ]
  },
  {
   "cell_type": "code",
   "execution_count": null,
   "metadata": {
    "collapsed": true
   },
   "outputs": [],
   "source": []
  },
  {
   "cell_type": "markdown",
   "metadata": {},
   "source": [
    "Problem D. [15 pts]  Linear algebra. "
   ]
  },
  {
   "cell_type": "markdown",
   "metadata": {},
   "source": [
    "Problem D1:  Compute [1 2 3]’ * [4 5 6].  The ' indicates a transpose."
   ]
  },
  {
   "cell_type": "code",
   "execution_count": null,
   "metadata": {
    "collapsed": true
   },
   "outputs": [],
   "source": []
  },
  {
   "cell_type": "markdown",
   "metadata": {},
   "source": [
    "Problem D2:  Compute [1 2; 3 4; 6 0]  *  [2 5 3 ; 2 5 1]  * [1 2 1]’ where semicolons notation separates rows within a matrix."
   ]
  },
  {
   "cell_type": "code",
   "execution_count": null,
   "metadata": {
    "collapsed": true
   },
   "outputs": [],
   "source": []
  }
 ],
 "metadata": {
  "kernelspec": {
   "display_name": "Python 3",
   "language": "python",
   "name": "python3"
  },
  "language_info": {
   "codemirror_mode": {
    "name": "ipython",
    "version": 3
   },
   "file_extension": ".py",
   "mimetype": "text/x-python",
   "name": "python",
   "nbconvert_exporter": "python",
   "pygments_lexer": "ipython3",
   "version": "3.4.3"
  }
 },
 "nbformat": 4,
 "nbformat_minor": 0
}
